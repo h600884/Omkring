{
  "cells": [
    {
      "cell_type": "markdown",
      "source": [
        "# Smoke Detector Alarm Classification"
      ],
      "metadata": {
        "id": "HFUaGGdw4IaC"
      }
    },
    {
      "cell_type": "markdown",
      "source": [
        "<div>\n",
        "<img src=\"https://www.nicepng.com/png/full/767-7678230_wmd3-heat-detector-smoke-detector.png\" width=\"420\"/>\n",
        "</div>"
      ],
      "metadata": {
        "id": "z14n6Ol74Mak"
      }
    },
    {
      "cell_type": "markdown",
      "source": [
        "# 1. Frame the problem and look at the big picture"
      ],
      "metadata": {
        "id": "6Wfh_5P725OW"
      }
    },
    {
      "cell_type": "markdown",
      "source": [
        "We want to create a model that recognises a fire alarm sound, the model is to be deployed on a smartphone, used in an app that will send a message to family/friends/neighbours when a fire alarm is recogniced. The fire alarm sounds are somewhat standarized, but there are different standards. Apple has a smoke detector recognition system, but it does not send alerts to friends famili, it could be used with shorcuts, but that may be a hassle to set up, especialy for older people. We will use supervised learning. The goal is to get the smoke detector alarm recognition as good as Apple´s solution. We will at least need to be able to recognize a firealarm with a standard frequenzy of 3100hz when the phone is in the same room, and idealy when the phone is in the users pocket, or even in a different room. For standard frequencies a non-ML model could possibly also be used, but a more flexible approach might me ideal.\n",
        "\n",
        "Some Assumptions:\n",
        "* Smoke detector signals are somewhat standarized\n",
        "* Mobile phones let applications use the microphone while the app is in the background"
      ],
      "metadata": {
        "id": "kVCEbFeG2_9k"
      }
    },
    {
      "cell_type": "markdown",
      "source": [
        "# 2. Get the data"
      ],
      "metadata": {
        "id": "0ffY14YZ3Ci3"
      }
    },
    {
      "cell_type": "markdown",
      "source": [
        "We will be creating our own dataset, by collecting sounds from smoke detectors online, and in person recording with the microphones on our phones. We need several hundred recordings, labeling them as smoke detector alarm sounds. Some of them sould be clear and uninterrupted sounds, others mixed with sound from the TV playing in the background, or music, etc. Other sounds will also need to be included, sounds that are not from a smoke detector but could sound like one, sirens from emergency veichles, microwave beeping when it finishes, etc. We will also need examples of sounds that are not of a smokedetector and does not sound like one, sounds that come from just walking around, watching tv, etc. Could also generate sounds from previous smokedetector sounds mixed with non smokedetector sounds.\n",
        "\n",
        "Some smoke detector alarm sounds are taken from this dataset: https://research.google.com/audioset//dataset/smoke_detector_smoke_alarm.html\n",
        "\n",
        "For training the models we will use the .wav file format.\n"
      ],
      "metadata": {
        "id": "Jhedx57v3Ecy"
      }
    },
    {
      "cell_type": "markdown",
      "source": [
        "# 3. Explore the data"
      ],
      "metadata": {
        "id": "4P0oSi5Y3TVJ"
      }
    },
    {
      "cell_type": "markdown",
      "metadata": {
        "id": "AeZZ_cSsZfPx"
      },
      "source": [
        "## Intalling dependencies\n"
      ]
    },
    {
      "cell_type": "code",
      "execution_count": null,
      "metadata": {
        "id": "wbMc4vHjaYdQ"
      },
      "outputs": [],
      "source": [
        "!sudo apt -y install libportaudio2\n",
        "!pip install tflite-model-maker"
      ]
    },
    {
      "cell_type": "markdown",
      "metadata": {
        "id": "z2ck_Ghdcgt9"
      },
      "source": [
        "## Import TensorFlow, Model Maker and other libraries"
      ]
    },
    {
      "cell_type": "code",
      "execution_count": null,
      "metadata": {
        "id": "rwUA9u4oWoCR"
      },
      "outputs": [],
      "source": [
        "import tensorflow as tf\n",
        "import tflite_model_maker as mm\n",
        "from tflite_model_maker import audio_classifier\n",
        "\n",
        "import os\n",
        "from google.colab import drive\n",
        "\n",
        "import numpy as np\n",
        "import matplotlib.pyplot as plt\n",
        "import seaborn as sns\n",
        "\n",
        "import itertools\n",
        "import glob\n",
        "import random\n",
        "\n",
        "from IPython.display import Audio, Image\n",
        "from scipy.io import wavfile"
      ]
    },
    {
      "cell_type": "markdown",
      "metadata": {
        "id": "HIfm2TxKZAuA"
      },
      "source": [
        "## The Smoke Detector Dataset\n",
        "\n",
        "The dataset is a collection of smoke detector sounds, and non smoke detector sounds."
      ]
    },
    {
      "cell_type": "code",
      "source": [
        "drive.mount('/content/drive/')"
      ],
      "metadata": {
        "id": "NqKBnZZ1wEFK",
        "colab": {
          "base_uri": "https://localhost:8080/"
        },
        "outputId": "90887804-aa56-4a91-fdf6-2a5f3ed50f67"
      },
      "execution_count": 2,
      "outputs": [
        {
          "output_type": "stream",
          "name": "stdout",
          "text": [
            "Mounted at /content/drive/\n"
          ]
        }
      ]
    },
    {
      "cell_type": "code",
      "source": [
        "data_dir = '/content/drive/MyDrive/Skole/Høyskolen på Vestlandet/Bachelor/data'"
      ],
      "metadata": {
        "id": "6rtF0pfPxR2V"
      },
      "execution_count": 3,
      "outputs": []
    },
    {
      "cell_type": "code",
      "source": [
        "for dirname, _, filenames in os.walk(data_dir):\n",
        "    for filename in filenames:\n",
        "        print(os.path.join(dirname, filename))"
      ],
      "metadata": {
        "id": "wJwmInOMDQPH",
        "colab": {
          "base_uri": "https://localhost:8080/"
        },
        "outputId": "a50b4dca-55ec-43ae-8d3c-da41194fee46"
      },
      "execution_count": 4,
      "outputs": [
        {
          "output_type": "stream",
          "name": "stdout",
          "text": [
            "/content/drive/MyDrive/Skole/Høyskolen på Vestlandet/Bachelor/data/train/SmokeDetector/BRK7010rookmelderResetenbatterijvervangen.wav\n",
            "/content/drive/MyDrive/Skole/Høyskolen på Vestlandet/Bachelor/data/train/SmokeDetector/PruebadelSensorHumo.wav\n",
            "/content/drive/MyDrive/Skole/Høyskolen på Vestlandet/Bachelor/data/train/SmokeDetector/SmokeDetectorSoundEffect.wav\n",
            "/content/drive/MyDrive/Skole/Høyskolen på Vestlandet/Bachelor/data/train/SmokeDetector/SmokeDetectorAlarmSound69.wav\n",
            "/content/drive/MyDrive/Skole/Høyskolen på Vestlandet/Bachelor/data/train/SmokeDetector/Sond_unealarmeincendie.wav\n",
            "/content/drive/MyDrive/Skole/Høyskolen på Vestlandet/Bachelor/data/train/SmokeDetector/Oldsmokedetector.wav\n",
            "/content/drive/MyDrive/Skole/Høyskolen på Vestlandet/Bachelor/data/train/SmokeDetector/SystemSensori3smokedetector.wav\n",
            "/content/drive/MyDrive/Skole/Høyskolen på Vestlandet/Bachelor/data/train/SmokeDetector/smoke-alarm-sound.wav\n",
            "/content/drive/MyDrive/Skole/Høyskolen på Vestlandet/Bachelor/data/train/SmokeDetector/SmokeAlarmSound.wav\n",
            "/content/drive/MyDrive/Skole/Høyskolen på Vestlandet/Bachelor/data/train/SmokeDetector/SmokeAlarmTesting.wav\n",
            "/content/drive/MyDrive/Skole/Høyskolen på Vestlandet/Bachelor/data/train/SmokeDetector/13148930_689593757846478_67458328.wav\n",
            "/content/drive/MyDrive/Skole/Høyskolen på Vestlandet/Bachelor/data/train/NotSmokeDetector/SmokeDetectorChirp.wav\n",
            "/content/drive/MyDrive/Skole/Høyskolen på Vestlandet/Bachelor/data/train/NotSmokeDetector/caralarmsoundeffect.wav\n",
            "/content/drive/MyDrive/Skole/Høyskolen på Vestlandet/Bachelor/data/train/NotSmokeDetector/BurglarAlarmSoundEffect.wav\n",
            "/content/drive/MyDrive/Skole/Høyskolen på Vestlandet/Bachelor/data/train/NotSmokeDetector/PoliceSirenSoundEffect.wav\n",
            "/content/drive/MyDrive/Skole/Høyskolen på Vestlandet/Bachelor/data/train/NotSmokeDetector/MicrowaveBeeping.wav\n",
            "/content/drive/MyDrive/Skole/Høyskolen på Vestlandet/Bachelor/data/train/NotSmokeDetector/AmbulanceSirenSound.wav\n",
            "/content/drive/MyDrive/Skole/Høyskolen på Vestlandet/Bachelor/data/train/NotSmokeDetector/Caralarmsoundeffect2.wav\n",
            "/content/drive/MyDrive/Skole/Høyskolen på Vestlandet/Bachelor/data/train/NotSmokeDetector/FuglOgBilAmbient.wav\n",
            "/content/drive/MyDrive/Skole/Høyskolen på Vestlandet/Bachelor/data/train/NotSmokeDetector/LommenGaarRundt.wav\n",
            "/content/drive/MyDrive/Skole/Høyskolen på Vestlandet/Bachelor/data/train/NotSmokeDetector/KjokkenAmbient.wav\n",
            "/content/drive/MyDrive/Skole/Høyskolen på Vestlandet/Bachelor/data/train/NotSmokeDetector/StueAmbient.wav\n",
            "/content/drive/MyDrive/Skole/Høyskolen på Vestlandet/Bachelor/data/train/NotSmokeDetector/TrykkePaaSkjerm.wav\n",
            "/content/drive/MyDrive/Skole/Høyskolen på Vestlandet/Bachelor/data/train/NotSmokeDetector/Flesland.wav\n",
            "/content/drive/MyDrive/Skole/Høyskolen på Vestlandet/Bachelor/data/train/NotSmokeDetector/BilAmbient70kmt.wav\n",
            "/content/drive/MyDrive/Skole/Høyskolen på Vestlandet/Bachelor/data/test/SmokeDetector/RettVedSidenAv.wav\n",
            "/content/drive/MyDrive/Skole/Høyskolen på Vestlandet/Bachelor/data/test/NotSmokeDetector/TheWire.wav\n"
          ]
        }
      ]
    },
    {
      "cell_type": "markdown",
      "source": [
        "## Ploting waves"
      ],
      "metadata": {
        "id": "S3I05HAm4jxw"
      }
    },
    {
      "cell_type": "code",
      "source": [
        "RØYKVARSLER_FILE = os.path.join(data_dir, 'train', 'SmokeDetector', 'SmokeAlarmSound.wav')\n",
        "IKKERØYKVARSLER_FILE = os.path.join(data_dir, 'train','NotSmokeDetector', 'MicrowaveBeeping.wav')"
      ],
      "metadata": {
        "id": "VOKhHJ2oqs_x"
      },
      "execution_count": 5,
      "outputs": []
    },
    {
      "cell_type": "code",
      "source": [
        "RØYKVARSLER_FILE"
      ],
      "metadata": {
        "id": "gE6zWDsPqtjw",
        "colab": {
          "base_uri": "https://localhost:8080/",
          "height": 35
        },
        "outputId": "880758e0-a19c-4b80-aa5c-4e63af0e5733"
      },
      "execution_count": 6,
      "outputs": [
        {
          "output_type": "execute_result",
          "data": {
            "text/plain": [
              "'/content/drive/MyDrive/Skole/Høyskolen på Vestlandet/Bachelor/data/train/SmokeDetector/SmokeAlarmSound.wav'"
            ],
            "application/vnd.google.colaboratory.intrinsic+json": {
              "type": "string"
            }
          },
          "metadata": {},
          "execution_count": 6
        }
      ]
    },
    {
      "cell_type": "code",
      "source": [
        "def show_data(audio_path):\n",
        "  sample_rate, audio_data = wavfile.read(audio_path, 'rb')\n",
        "\n",
        "  plttitle = audio_path.split('/')[-2]\n",
        "  plt.title(plttitle)\n",
        "  plt.plot(audio_data)"
      ],
      "metadata": {
        "id": "QTMEcUgUFBk0"
      },
      "execution_count": 7,
      "outputs": []
    },
    {
      "cell_type": "code",
      "source": [
        "show_data(RØYKVARSLER_FILE)"
      ],
      "metadata": {
        "id": "MG9AiaU5F8mD",
        "colab": {
          "base_uri": "https://localhost:8080/",
          "height": 452
        },
        "outputId": "153cf53c-265f-433c-f304-6eb0caf41e3f"
      },
      "execution_count": 8,
      "outputs": [
        {
          "output_type": "display_data",
          "data": {
            "text/plain": [
              "<Figure size 640x480 with 1 Axes>"
            ],
            "image/png": "[encoded data removed]"
          },
          "metadata": {}
        }
      ]
    },
    {
      "cell_type": "code",
      "source": [
        "show_data(IKKERØYKVARSLER_FILE)"
      ],
      "metadata": {
        "id": "0wSy67GvxzCq",
        "colab": {
          "base_uri": "https://localhost:8080/",
          "height": 452
        },
        "outputId": "0757bf7a-2e4f-4177-8197-c737900fb480"
      },
      "execution_count": 9,
      "outputs": [
        {
          "output_type": "display_data",
          "data": {
            "text/plain": [
              "<Figure size 640x480 with 1 Axes>"
            ],
            "image/png": "[encoded data removed]"
          },
          "metadata": {}
        }
      ]
    },
    {
      "cell_type": "markdown",
      "source": [
        "As we can se the smoke detector alarm is considerably louder than a microwave beeping, but they seem to be oscilating on and of at about the same rate."
      ],
      "metadata": {
        "id": "vutcXktG5HF4"
      }
    },
    {
      "cell_type": "markdown",
      "source": [
        "# 4. Prepare the data"
      ],
      "metadata": {
        "id": "_e9pSFQg3c_V"
      }
    },
    {
      "cell_type": "code",
      "execution_count": 10,
      "metadata": {
        "id": "tUcxtfHXY7XS"
      },
      "outputs": [],
      "source": [
        "spec = audio_classifier.YamNetSpec(\n",
        "    keep_yamnet_and_custom_heads=True,\n",
        "    frame_step=2 * audio_classifier.YamNetSpec.EXPECTED_WAVEFORM_LENGTH,\n",
        "    frame_length=6 * audio_classifier.YamNetSpec.EXPECTED_WAVEFORM_LENGTH)"
      ]
    },
    {
      "cell_type": "markdown",
      "metadata": {
        "id": "EF185yZ_M7zu"
      },
      "source": [
        "## Loading the data\n",
        "\n",
        "The data is structurer in 2 folders, one for training, and one for testing\n"
      ]
    },
    {
      "cell_type": "code",
      "execution_count": 11,
      "metadata": {
        "id": "cX0RqETqZgzo"
      },
      "outputs": [],
      "source": [
        "train_data = audio_classifier.DataLoader.from_folder(spec, os.path.join(data_dir, 'train'), cache=True)\n",
        "train_data, validation_data = train_data.split(0.8)\n",
        "test_data = audio_classifier.DataLoader.from_folder(spec, os.path.join(data_dir, 'test'), cache=True)"
      ]
    },
    {
      "cell_type": "markdown",
      "metadata": {
        "id": "ziMghju-Rts2"
      },
      "source": [
        "# 5. Training the model"
      ]
    },
    {
      "cell_type": "code",
      "execution_count": 12,
      "metadata": {
        "id": "8r6Awvl4ZkIv",
        "colab": {
          "base_uri": "https://localhost:8080/"
        },
        "outputId": "d1b08779-2a1f-4ff4-c122-42d088e76d8c"
      },
      "outputs": [
        {
          "output_type": "stream",
          "name": "stdout",
          "text": [
            "Training the model\n",
            "Model: \"sequential\"\n",
            "_________________________________________________________________\n",
            " Layer (type)                Output Shape              Param #   \n",
            "=================================================================\n",
            " classification_head (Dense)  (None, 2)                2050      \n",
            "                                                                 \n",
            "=================================================================\n",
            "Total params: 2,050\n",
            "Trainable params: 2,050\n",
            "Non-trainable params: 0\n",
            "_________________________________________________________________\n",
            "Epoch 1/100\n",
            "12/12 [==============================] - 40s 2s/step - loss: 0.5655 - acc: 0.7598 - val_loss: 0.4056 - val_acc: 0.9062\n",
            "Epoch 2/100\n",
            "12/12 [==============================] - 0s 38ms/step - loss: 0.3053 - acc: 0.9441 - val_loss: 0.3099 - val_acc: 1.0000\n",
            "Epoch 3/100\n",
            "12/12 [==============================] - 1s 53ms/step - loss: 0.2171 - acc: 0.9553 - val_loss: 0.2502 - val_acc: 1.0000\n",
            "Epoch 4/100\n",
            "12/12 [==============================] - 1s 54ms/step - loss: 0.1508 - acc: 0.9721 - val_loss: 0.2134 - val_acc: 1.0000\n",
            "Epoch 5/100\n",
            "12/12 [==============================] - 1s 59ms/step - loss: 0.1146 - acc: 0.9944 - val_loss: 0.1935 - val_acc: 0.9688\n",
            "Epoch 6/100\n",
            "12/12 [==============================] - 1s 55ms/step - loss: 0.0936 - acc: 0.9888 - val_loss: 0.1855 - val_acc: 0.9688\n",
            "Epoch 7/100\n",
            "12/12 [==============================] - 1s 57ms/step - loss: 0.0756 - acc: 0.9944 - val_loss: 0.1852 - val_acc: 0.9375\n",
            "Epoch 8/100\n",
            "12/12 [==============================] - 1s 60ms/step - loss: 0.0587 - acc: 1.0000 - val_loss: 0.1799 - val_acc: 0.9375\n",
            "Epoch 9/100\n",
            "12/12 [==============================] - 1s 50ms/step - loss: 0.0567 - acc: 0.9944 - val_loss: 0.1698 - val_acc: 0.9688\n",
            "Epoch 10/100\n",
            "12/12 [==============================] - 0s 38ms/step - loss: 0.0471 - acc: 1.0000 - val_loss: 0.1609 - val_acc: 0.9688\n",
            "Epoch 11/100\n",
            "12/12 [==============================] - 0s 35ms/step - loss: 0.0418 - acc: 1.0000 - val_loss: 0.1552 - val_acc: 0.9688\n",
            "Epoch 12/100\n",
            "12/12 [==============================] - 0s 35ms/step - loss: 0.0389 - acc: 1.0000 - val_loss: 0.1510 - val_acc: 0.9688\n",
            "Epoch 13/100\n",
            "12/12 [==============================] - 0s 36ms/step - loss: 0.0340 - acc: 1.0000 - val_loss: 0.1499 - val_acc: 0.9688\n",
            "Epoch 14/100\n",
            "12/12 [==============================] - 0s 34ms/step - loss: 0.0320 - acc: 1.0000 - val_loss: 0.1508 - val_acc: 0.9688\n",
            "Epoch 15/100\n",
            "12/12 [==============================] - 0s 35ms/step - loss: 0.0322 - acc: 1.0000 - val_loss: 0.1499 - val_acc: 0.9688\n",
            "Epoch 16/100\n",
            "12/12 [==============================] - 0s 35ms/step - loss: 0.0257 - acc: 1.0000 - val_loss: 0.1479 - val_acc: 0.9688\n",
            "Epoch 17/100\n",
            "12/12 [==============================] - 0s 35ms/step - loss: 0.0265 - acc: 1.0000 - val_loss: 0.1467 - val_acc: 0.9688\n",
            "Epoch 18/100\n",
            "12/12 [==============================] - 0s 35ms/step - loss: 0.0226 - acc: 1.0000 - val_loss: 0.1482 - val_acc: 0.9062\n",
            "Epoch 19/100\n",
            "12/12 [==============================] - 0s 34ms/step - loss: 0.0217 - acc: 1.0000 - val_loss: 0.1478 - val_acc: 0.9062\n",
            "Epoch 20/100\n",
            "12/12 [==============================] - 0s 34ms/step - loss: 0.0209 - acc: 1.0000 - val_loss: 0.1491 - val_acc: 0.9062\n",
            "Epoch 21/100\n",
            "12/12 [==============================] - 0s 37ms/step - loss: 0.0190 - acc: 1.0000 - val_loss: 0.1493 - val_acc: 0.9062\n",
            "Epoch 22/100\n",
            "12/12 [==============================] - 0s 36ms/step - loss: 0.0181 - acc: 1.0000 - val_loss: 0.1478 - val_acc: 0.9062\n",
            "Epoch 23/100\n",
            "12/12 [==============================] - 0s 35ms/step - loss: 0.0182 - acc: 1.0000 - val_loss: 0.1491 - val_acc: 0.9062\n",
            "Epoch 24/100\n",
            "12/12 [==============================] - 0s 34ms/step - loss: 0.0163 - acc: 1.0000 - val_loss: 0.1493 - val_acc: 0.9062\n",
            "Epoch 25/100\n",
            "12/12 [==============================] - 1s 62ms/step - loss: 0.0134 - acc: 1.0000 - val_loss: 0.1480 - val_acc: 0.9062\n",
            "Epoch 26/100\n",
            "12/12 [==============================] - 1s 62ms/step - loss: 0.0143 - acc: 1.0000 - val_loss: 0.1475 - val_acc: 0.9062\n",
            "Epoch 27/100\n",
            "12/12 [==============================] - 1s 56ms/step - loss: 0.0148 - acc: 1.0000 - val_loss: 0.1476 - val_acc: 0.9062\n",
            "Epoch 28/100\n",
            "12/12 [==============================] - 1s 52ms/step - loss: 0.0115 - acc: 1.0000 - val_loss: 0.1477 - val_acc: 0.9062\n",
            "Epoch 29/100\n",
            "12/12 [==============================] - 1s 59ms/step - loss: 0.0129 - acc: 1.0000 - val_loss: 0.1482 - val_acc: 0.9062\n",
            "Epoch 30/100\n",
            "12/12 [==============================] - 1s 58ms/step - loss: 0.0115 - acc: 1.0000 - val_loss: 0.1483 - val_acc: 0.9062\n",
            "Epoch 31/100\n",
            "12/12 [==============================] - 1s 57ms/step - loss: 0.0126 - acc: 1.0000 - val_loss: 0.1479 - val_acc: 0.9062\n",
            "Epoch 32/100\n",
            "12/12 [==============================] - 1s 57ms/step - loss: 0.0102 - acc: 1.0000 - val_loss: 0.1472 - val_acc: 0.9062\n",
            "Epoch 33/100\n",
            "12/12 [==============================] - 0s 36ms/step - loss: 0.0097 - acc: 1.0000 - val_loss: 0.1464 - val_acc: 0.9062\n",
            "Epoch 34/100\n",
            "12/12 [==============================] - 0s 35ms/step - loss: 0.0104 - acc: 1.0000 - val_loss: 0.1450 - val_acc: 0.9062\n",
            "Epoch 35/100\n",
            "12/12 [==============================] - 0s 36ms/step - loss: 0.0110 - acc: 1.0000 - val_loss: 0.1460 - val_acc: 0.9062\n",
            "Epoch 36/100\n",
            "12/12 [==============================] - 0s 40ms/step - loss: 0.0092 - acc: 1.0000 - val_loss: 0.1469 - val_acc: 0.9062\n",
            "Epoch 37/100\n",
            "12/12 [==============================] - 0s 35ms/step - loss: 0.0079 - acc: 1.0000 - val_loss: 0.1484 - val_acc: 0.9062\n",
            "Epoch 38/100\n",
            "12/12 [==============================] - 0s 36ms/step - loss: 0.0086 - acc: 1.0000 - val_loss: 0.1501 - val_acc: 0.9062\n",
            "Epoch 39/100\n",
            "12/12 [==============================] - 0s 37ms/step - loss: 0.0078 - acc: 1.0000 - val_loss: 0.1515 - val_acc: 0.9062\n",
            "Epoch 40/100\n",
            "12/12 [==============================] - 0s 35ms/step - loss: 0.0075 - acc: 1.0000 - val_loss: 0.1514 - val_acc: 0.9062\n",
            "Epoch 41/100\n",
            "12/12 [==============================] - 0s 35ms/step - loss: 0.0072 - acc: 1.0000 - val_loss: 0.1510 - val_acc: 0.9062\n",
            "Epoch 42/100\n",
            "12/12 [==============================] - 0s 36ms/step - loss: 0.0075 - acc: 1.0000 - val_loss: 0.1501 - val_acc: 0.9062\n",
            "Epoch 43/100\n",
            "12/12 [==============================] - 0s 37ms/step - loss: 0.0068 - acc: 1.0000 - val_loss: 0.1498 - val_acc: 0.9062\n",
            "Epoch 44/100\n",
            "12/12 [==============================] - 0s 34ms/step - loss: 0.0099 - acc: 1.0000 - val_loss: 0.1525 - val_acc: 0.9062\n",
            "Epoch 45/100\n",
            "12/12 [==============================] - 0s 36ms/step - loss: 0.0061 - acc: 1.0000 - val_loss: 0.1549 - val_acc: 0.9062\n",
            "Epoch 46/100\n",
            "12/12 [==============================] - 0s 35ms/step - loss: 0.0075 - acc: 1.0000 - val_loss: 0.1571 - val_acc: 0.9062\n",
            "Epoch 47/100\n",
            "12/12 [==============================] - 0s 35ms/step - loss: 0.0066 - acc: 1.0000 - val_loss: 0.1570 - val_acc: 0.9062\n",
            "Epoch 48/100\n",
            "12/12 [==============================] - 0s 37ms/step - loss: 0.0060 - acc: 1.0000 - val_loss: 0.1575 - val_acc: 0.9062\n",
            "Epoch 49/100\n",
            "12/12 [==============================] - 1s 55ms/step - loss: 0.0055 - acc: 1.0000 - val_loss: 0.1583 - val_acc: 0.9062\n",
            "Epoch 50/100\n",
            "12/12 [==============================] - 1s 60ms/step - loss: 0.0057 - acc: 1.0000 - val_loss: 0.1576 - val_acc: 0.9062\n",
            "Epoch 51/100\n",
            "12/12 [==============================] - 1s 57ms/step - loss: 0.0066 - acc: 1.0000 - val_loss: 0.1587 - val_acc: 0.9062\n",
            "Epoch 52/100\n",
            "12/12 [==============================] - 1s 57ms/step - loss: 0.0050 - acc: 1.0000 - val_loss: 0.1604 - val_acc: 0.9062\n",
            "Epoch 53/100\n",
            "12/12 [==============================] - 1s 61ms/step - loss: 0.0057 - acc: 1.0000 - val_loss: 0.1639 - val_acc: 0.9062\n",
            "Epoch 54/100\n",
            "12/12 [==============================] - 1s 57ms/step - loss: 0.0052 - acc: 1.0000 - val_loss: 0.1658 - val_acc: 0.9062\n",
            "Epoch 55/100\n",
            "12/12 [==============================] - 1s 56ms/step - loss: 0.0049 - acc: 1.0000 - val_loss: 0.1673 - val_acc: 0.9062\n",
            "Epoch 56/100\n",
            "12/12 [==============================] - 1s 56ms/step - loss: 0.0048 - acc: 1.0000 - val_loss: 0.1671 - val_acc: 0.9062\n",
            "Epoch 57/100\n",
            "12/12 [==============================] - 0s 38ms/step - loss: 0.0051 - acc: 1.0000 - val_loss: 0.1675 - val_acc: 0.9062\n",
            "Epoch 58/100\n",
            "12/12 [==============================] - 0s 38ms/step - loss: 0.0047 - acc: 1.0000 - val_loss: 0.1688 - val_acc: 0.9062\n",
            "Epoch 59/100\n",
            "12/12 [==============================] - 0s 35ms/step - loss: 0.0053 - acc: 1.0000 - val_loss: 0.1703 - val_acc: 0.9062\n",
            "Epoch 60/100\n",
            "12/12 [==============================] - 0s 36ms/step - loss: 0.0040 - acc: 1.0000 - val_loss: 0.1736 - val_acc: 0.9062\n",
            "Epoch 61/100\n",
            "12/12 [==============================] - 0s 35ms/step - loss: 0.0040 - acc: 1.0000 - val_loss: 0.1739 - val_acc: 0.9062\n",
            "Epoch 62/100\n",
            "12/12 [==============================] - 0s 36ms/step - loss: 0.0048 - acc: 1.0000 - val_loss: 0.1732 - val_acc: 0.9062\n",
            "Epoch 63/100\n",
            "12/12 [==============================] - 0s 34ms/step - loss: 0.0040 - acc: 1.0000 - val_loss: 0.1727 - val_acc: 0.9062\n",
            "Epoch 64/100\n",
            "12/12 [==============================] - 0s 35ms/step - loss: 0.0048 - acc: 1.0000 - val_loss: 0.1741 - val_acc: 0.9062\n",
            "Epoch 65/100\n",
            "12/12 [==============================] - 0s 35ms/step - loss: 0.0039 - acc: 1.0000 - val_loss: 0.1744 - val_acc: 0.9062\n",
            "Epoch 66/100\n",
            "12/12 [==============================] - 0s 34ms/step - loss: 0.0045 - acc: 1.0000 - val_loss: 0.1759 - val_acc: 0.9062\n",
            "Epoch 67/100\n",
            "12/12 [==============================] - 0s 36ms/step - loss: 0.0044 - acc: 1.0000 - val_loss: 0.1805 - val_acc: 0.9062\n",
            "Epoch 68/100\n",
            "12/12 [==============================] - 0s 34ms/step - loss: 0.0037 - acc: 1.0000 - val_loss: 0.1826 - val_acc: 0.9062\n",
            "Epoch 69/100\n",
            "12/12 [==============================] - 0s 34ms/step - loss: 0.0044 - acc: 1.0000 - val_loss: 0.1834 - val_acc: 0.9062\n",
            "Epoch 70/100\n",
            "12/12 [==============================] - 1s 81ms/step - loss: 0.0040 - acc: 1.0000 - val_loss: 0.1832 - val_acc: 0.9062\n",
            "Epoch 71/100\n",
            "12/12 [==============================] - 1s 121ms/step - loss: 0.0041 - acc: 1.0000 - val_loss: 0.1847 - val_acc: 0.9062\n",
            "Epoch 72/100\n",
            "12/12 [==============================] - 1s 57ms/step - loss: 0.0038 - acc: 1.0000 - val_loss: 0.1845 - val_acc: 0.9062\n",
            "Epoch 73/100\n",
            "12/12 [==============================] - 1s 57ms/step - loss: 0.0035 - acc: 1.0000 - val_loss: 0.1855 - val_acc: 0.9062\n",
            "Epoch 74/100\n",
            "12/12 [==============================] - 1s 63ms/step - loss: 0.0023 - acc: 1.0000 - val_loss: 0.1846 - val_acc: 0.9062\n",
            "Epoch 75/100\n",
            "12/12 [==============================] - 1s 63ms/step - loss: 0.0030 - acc: 1.0000 - val_loss: 0.1834 - val_acc: 0.9062\n",
            "Epoch 76/100\n",
            "12/12 [==============================] - 1s 60ms/step - loss: 0.0034 - acc: 1.0000 - val_loss: 0.1826 - val_acc: 0.9062\n",
            "Epoch 77/100\n",
            "12/12 [==============================] - 1s 60ms/step - loss: 0.0028 - acc: 1.0000 - val_loss: 0.1834 - val_acc: 0.9062\n",
            "Epoch 78/100\n",
            "12/12 [==============================] - 0s 37ms/step - loss: 0.0027 - acc: 1.0000 - val_loss: 0.1832 - val_acc: 0.9062\n",
            "Epoch 79/100\n",
            "12/12 [==============================] - 0s 35ms/step - loss: 0.0028 - acc: 1.0000 - val_loss: 0.1815 - val_acc: 0.9062\n",
            "Epoch 80/100\n",
            "12/12 [==============================] - 0s 37ms/step - loss: 0.0029 - acc: 1.0000 - val_loss: 0.1814 - val_acc: 0.9062\n",
            "Epoch 81/100\n",
            "12/12 [==============================] - 0s 35ms/step - loss: 0.0028 - acc: 1.0000 - val_loss: 0.1811 - val_acc: 0.9062\n",
            "Epoch 82/100\n",
            "12/12 [==============================] - 0s 37ms/step - loss: 0.0027 - acc: 1.0000 - val_loss: 0.1802 - val_acc: 0.9062\n",
            "Epoch 83/100\n",
            "12/12 [==============================] - 0s 37ms/step - loss: 0.0035 - acc: 1.0000 - val_loss: 0.1831 - val_acc: 0.9062\n",
            "Epoch 84/100\n",
            "12/12 [==============================] - 0s 37ms/step - loss: 0.0028 - acc: 1.0000 - val_loss: 0.1851 - val_acc: 0.9062\n",
            "Epoch 85/100\n",
            "12/12 [==============================] - 0s 37ms/step - loss: 0.0028 - acc: 1.0000 - val_loss: 0.1851 - val_acc: 0.9062\n",
            "Epoch 86/100\n",
            "12/12 [==============================] - 0s 35ms/step - loss: 0.0028 - acc: 1.0000 - val_loss: 0.1844 - val_acc: 0.9062\n",
            "Epoch 87/100\n",
            "12/12 [==============================] - 0s 37ms/step - loss: 0.0027 - acc: 1.0000 - val_loss: 0.1871 - val_acc: 0.9062\n",
            "Epoch 88/100\n",
            "12/12 [==============================] - 0s 37ms/step - loss: 0.0024 - acc: 1.0000 - val_loss: 0.1885 - val_acc: 0.9062\n",
            "Epoch 89/100\n",
            "12/12 [==============================] - 0s 36ms/step - loss: 0.0024 - acc: 1.0000 - val_loss: 0.1878 - val_acc: 0.9062\n",
            "Epoch 90/100\n",
            "12/12 [==============================] - 0s 33ms/step - loss: 0.0022 - acc: 1.0000 - val_loss: 0.1876 - val_acc: 0.9062\n",
            "Epoch 91/100\n",
            "12/12 [==============================] - 0s 39ms/step - loss: 0.0022 - acc: 1.0000 - val_loss: 0.1868 - val_acc: 0.9062\n",
            "Epoch 92/100\n",
            "12/12 [==============================] - 0s 34ms/step - loss: 0.0024 - acc: 1.0000 - val_loss: 0.1858 - val_acc: 0.9062\n",
            "Epoch 93/100\n",
            "12/12 [==============================] - 0s 38ms/step - loss: 0.0021 - acc: 1.0000 - val_loss: 0.1858 - val_acc: 0.9062\n",
            "Epoch 94/100\n",
            "12/12 [==============================] - 1s 58ms/step - loss: 0.0020 - acc: 1.0000 - val_loss: 0.1848 - val_acc: 0.9062\n",
            "Epoch 95/100\n",
            "12/12 [==============================] - 1s 57ms/step - loss: 0.0020 - acc: 1.0000 - val_loss: 0.1850 - val_acc: 0.9062\n",
            "Epoch 96/100\n",
            "12/12 [==============================] - 1s 56ms/step - loss: 0.0020 - acc: 1.0000 - val_loss: 0.1846 - val_acc: 0.9062\n",
            "Epoch 97/100\n",
            "12/12 [==============================] - 1s 60ms/step - loss: 0.0024 - acc: 1.0000 - val_loss: 0.1849 - val_acc: 0.9062\n",
            "Epoch 98/100\n",
            "12/12 [==============================] - 1s 59ms/step - loss: 0.0025 - acc: 1.0000 - val_loss: 0.1868 - val_acc: 0.9062\n",
            "Epoch 99/100\n",
            "12/12 [==============================] - 1s 60ms/step - loss: 0.0017 - acc: 1.0000 - val_loss: 0.1879 - val_acc: 0.9062\n",
            "Epoch 100/100\n",
            "12/12 [==============================] - 1s 60ms/step - loss: 0.0017 - acc: 1.0000 - val_loss: 0.1874 - val_acc: 0.9062\n"
          ]
        }
      ],
      "source": [
        "batch_size = 16\n",
        "epochs = 100\n",
        "\n",
        "print('Training the model')\n",
        "model = audio_classifier.create(\n",
        "    train_data,\n",
        "    spec,\n",
        "    validation_data,\n",
        "    batch_size=batch_size,\n",
        "    epochs=epochs)"
      ]
    },
    {
      "cell_type": "markdown",
      "source": [
        "# 6. Evaluate"
      ],
      "metadata": {
        "id": "H1NEzfcZ3sn9"
      }
    },
    {
      "cell_type": "code",
      "execution_count": 13,
      "metadata": {
        "id": "GDoQACMrZnOx",
        "colab": {
          "base_uri": "https://localhost:8080/"
        },
        "outputId": "128e5b8d-64aa-4398-be24-fc8a6b5da075"
      },
      "outputs": [
        {
          "output_type": "stream",
          "name": "stdout",
          "text": [
            "Evaluating the model\n",
            "1/1 [==============================] - 3s 3s/step - loss: 5.4317e-04 - acc: 1.0000\n"
          ]
        },
        {
          "output_type": "execute_result",
          "data": {
            "text/plain": [
              "[0.0005431656027212739, 1.0]"
            ]
          },
          "metadata": {},
          "execution_count": 13
        }
      ],
      "source": [
        "print('Evaluating the model')\n",
        "model.evaluate(test_data)"
      ]
    },
    {
      "cell_type": "markdown",
      "metadata": {
        "id": "8QRRAM39aOxS"
      },
      "source": [
        "## Confusion matrix"
      ]
    },
    {
      "cell_type": "code",
      "execution_count": 14,
      "metadata": {
        "id": "zqB3c0368iH3",
        "colab": {
          "base_uri": "https://localhost:8080/",
          "height": 472
        },
        "outputId": "11412129-420d-465e-a00a-0dd6263ade64"
      },
      "outputs": [
        {
          "output_type": "display_data",
          "data": {
            "text/plain": [
              "<Figure size 640x480 with 2 Axes>"
            ],
            "image/png": "[encoded data removed]"
          },
          "metadata": {}
        }
      ],
      "source": [
        "def show_confusion_matrix(confusion, test_labels):\n",
        "  \"\"\"Compute confusion matrix and normalize.\"\"\"\n",
        "  confusion_normalized = confusion.astype(\"float\") / confusion.sum(axis=1)\n",
        "  axis_labels = test_labels\n",
        "  ax = sns.heatmap(\n",
        "      confusion_normalized, xticklabels=axis_labels, yticklabels=axis_labels,\n",
        "      cmap='Blues', annot=True, fmt='.2f', square=True)\n",
        "  plt.title(\"Confusion matrix\")\n",
        "  plt.ylabel(\"True label\")\n",
        "  plt.xlabel(\"Predicted label\")\n",
        "\n",
        "confusion_matrix = model.confusion_matrix(test_data)\n",
        "show_confusion_matrix(confusion_matrix.numpy(), test_data.index_to_label)"
      ]
    },
    {
      "cell_type": "markdown",
      "metadata": {
        "id": "yASrikBgZ9ZO"
      },
      "source": [
        "## 7. Export and deploy the model"
      ]
    },
    {
      "cell_type": "code",
      "execution_count": 15,
      "metadata": {
        "id": "Xw_ehPxAdQlz",
        "colab": {
          "base_uri": "https://localhost:8080/"
        },
        "outputId": "00779b4c-856d-4337-b868-e114a7d9df76"
      },
      "outputs": [
        {
          "output_type": "stream",
          "name": "stdout",
          "text": [
            "Exporing the TFLite model to ./models\n"
          ]
        }
      ],
      "source": [
        "models_path = './models'\n",
        "print(f'Exporing the TFLite model to {models_path}')\n",
        "\n",
        "model.export(models_path, tflite_filename='model.tflite')"
      ]
    }
  ],
  "metadata": {
    "accelerator": "GPU",
    "colab": {
      "provenance": []
    },
    "kernelspec": {
      "display_name": "Python 3",
      "name": "python3"
    },
    "language_info": {
      "name": "python"
    },
    "gpuClass": "standard"
  },
  "nbformat": 4,
  "nbformat_minor": 0
}